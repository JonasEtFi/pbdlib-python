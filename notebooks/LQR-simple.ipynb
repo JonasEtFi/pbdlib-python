{
 "cells": [
  {
   "cell_type": "code",
   "execution_count": 1,
   "id": "bound-flavor",
   "metadata": {},
   "outputs": [],
   "source": [
    "import pbdlib as pbd\n",
    "import numpy as np\n",
    "import matplotlib.pyplot as plt\n",
    "from copy import deepcopy\n",
    "from scipy.linalg import block_diag\n",
    "%matplotlib inline\n",
    "%load_ext autoreload\n",
    "%autoreload 2\n",
    "plt.style.use(\"default\")\n",
    "plt.rcParams['font.size'] = 13\n",
    "plt.rcParams['axes.linewidth'] = 1.5\n",
    "np.set_printoptions(precision=5, suppress=False)\n",
    "plt.rcParams[\"figure.figsize\"] = (4,3)"
   ]
  },
  {
   "cell_type": "code",
   "execution_count": 2,
   "id": "signed-sound",
   "metadata": {},
   "outputs": [
    {
     "name": "stdout",
     "output_type": "stream",
     "text": [
      "0.005\n"
     ]
    }
   ],
   "source": [
    "x_dim = 2\n",
    "u_dim = x_dim\n",
    "nb_deriv = 2 #[position, velocity]\n",
    "demo_number = 4\n",
    "T = 5.\n",
    "horizon = 1000\n",
    "dt = T/horizon\n",
    "A, B = pbd.utils.get_canonical(x_dim, nb_deriv=nb_deriv, dt=dt) \n",
    "\n",
    "lqr = pbd.LQR(A, B, nb_dim=A.shape[0], dt=dt, horizon=horizon)\n",
    "print(dt)"
   ]
  },
  {
   "cell_type": "code",
   "execution_count": 5,
   "id": "usual-orientation",
   "metadata": {},
   "outputs": [],
   "source": [
    "# Set via-points\n",
    "via1 = np.array([-0.8, 0.5, 0, 0])[:x_dim*nb_deriv]\n",
    "via2 = np.array([0.2, -0.5, 0, 0])[:x_dim*nb_deriv]\n",
    "x_final_target = np.array([-0.75, -0.75, 0, 0])[:x_dim*nb_deriv]\n",
    "\n",
    "zs = np.stack([\n",
    "        via1,\n",
    "        via1,\n",
    "        via2,\n",
    "        via2,\n",
    "        x_final_target,\n",
    "        x_final_target\n",
    "    ]) # these are double becuase we will assign 0 precision for the first one, and bigger precision for the other\n",
    "\n",
    "lqr.z = zs"
   ]
  },
  {
   "cell_type": "code",
   "execution_count": 6,
   "id": "agreed-holder",
   "metadata": {},
   "outputs": [],
   "source": [
    "# set the timing of the viapoints\n",
    "via_time1 = int(horizon*0.4)\n",
    "via_time2 = int(horizon*0.7)\n",
    "seq =  ((via_time1-1) * [0] + 1 * [1] + (via_time2-via_time1-1)* [2] + 1 * [3] +(horizon-via_time2-1)*[4] + 1*[5] )\n",
    "lqr.seq_xi = seq"
   ]
  },
  {
   "cell_type": "code",
   "execution_count": 7,
   "id": "portable-moscow",
   "metadata": {},
   "outputs": [],
   "source": [
    "# set the precisions\n",
    "\n",
    "# Control precision R\n",
    "u_std = -3. # means 1e-3\n",
    "lqr.gmm_u = u_std\n",
    "\n",
    "# Tracking precision\n",
    "x_std = 1e6\n",
    "dx_std = 1e2\n",
    "Qs = np.stack([\n",
    "    np.diag([0., 0., 0., 0.]),\n",
    "    np.diag([x_std, x_std,0,0  ]),\n",
    "    np.diag([0., 0.,0,0]),\n",
    "    np.diag([x_std, x_std,0,0 ]),\n",
    "    np.diag([0., 0., 0, 0]),\n",
    "    np.diag([x_std, x_std,dx_std,dx_std])\n",
    "    ])\n",
    "lqr.Q = Qs"
   ]
  },
  {
   "cell_type": "code",
   "execution_count": 8,
   "id": "unable-punishment",
   "metadata": {},
   "outputs": [],
   "source": [
    "lqr.ricatti()"
   ]
  },
  {
   "cell_type": "code",
   "execution_count": 9,
   "id": "caring-earth",
   "metadata": {},
   "outputs": [],
   "source": [
    "demo_number = 10\n",
    "x0 = np.zeros((demo_number, x_dim*nb_deriv))\n",
    "# xs,us = lqr.make_rollout_samples(x0)\n",
    "xs,us = lqr.make_rollout(x0)"
   ]
  },
  {
   "cell_type": "code",
   "execution_count": 10,
   "id": "veterinary-timeline",
   "metadata": {},
   "outputs": [
    {
     "data": {
      "text/plain": [
       "[<matplotlib.lines.Line2D at 0x2ddeed66ac0>]"
      ]
     },
     "execution_count": 10,
     "metadata": {},
     "output_type": "execute_result"
    },
    {
     "data": {
      "image/png": "[encoded data removed]",
      "text/plain": [
       "<Figure size 400x300 with 1 Axes>"
      ]
     },
     "metadata": {},
     "output_type": "display_data"
    }
   ],
   "source": [
    "fig,ax = plt.subplots( figsize=(4,3))\n",
    "xs_mean = np.mean(xs, axis=0) \n",
    "xs_std  = np.std(xs, axis=0)\n",
    "ax.plot(xs_mean[:,0], xs_mean[:,1] )\n",
    "\n",
    "ax.plot(via1[0], via1[1], \"rx\")\n",
    "ax.plot(via2[0], via2[1], \"bx\")\n",
    "\n",
    "ax.plot(x_final_target[0],x_final_target[1], \"kx\")\n",
    "ax.plot(x0[0],x0[1], \"ko\")"
   ]
  },
  {
   "cell_type": "code",
   "execution_count": null,
   "id": "positive-approval",
   "metadata": {},
   "outputs": [],
   "source": []
  }
 ],
 "metadata": {
  "kernelspec": {
   "display_name": "tensorflow",
   "language": "python",
   "name": "tensorflow"
  },
  "language_info": {
   "codemirror_mode": {
    "name": "ipython",
    "version": 3
   },
   "file_extension": ".py",
   "mimetype": "text/x-python",
   "name": "python",
   "nbconvert_exporter": "python",
   "pygments_lexer": "ipython3",
   "version": "3.8.10"
  },
  "toc": {
   "base_numbering": 1,
   "nav_menu": {},
   "number_sections": true,
   "sideBar": true,
   "skip_h1_title": false,
   "title_cell": "Table of Contents",
   "title_sidebar": "Contents",
   "toc_cell": false,
   "toc_position": {},
   "toc_section_display": true,
   "toc_window_display": false
  }
 },
 "nbformat": 4,
 "nbformat_minor": 5
}
